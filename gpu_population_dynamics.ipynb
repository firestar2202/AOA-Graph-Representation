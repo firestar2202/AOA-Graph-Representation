{
  "nbformat": 4,
  "nbformat_minor": 0,
  "metadata": {
    "colab": {
      "provenance": [],
      "include_colab_link": true
    },
    "kernelspec": {
      "name": "python3",
      "display_name": "Python 3"
    },
    "language_info": {
      "name": "python"
    },
    "accelerator": "GPU",
    "gpuClass": "standard"
  },
  "cells": [
    {
      "cell_type": "markdown",
      "metadata": {
        "id": "view-in-github",
        "colab_type": "text"
      },
      "source": [
        "<a href=\"https://colab.research.google.com/github/firestar2202/AOA-Graph-Representation/blob/master/gpu_population_dynamics.ipynb\" target=\"_parent\"><img src=\"https://colab.research.google.com/assets/colab-badge.svg\" alt=\"Open In Colab\"/></a>"
      ]
    },
    {
      "cell_type": "markdown",
      "source": [
        "# PS1: GPU Population Dynamics Simulation (10 Points)\n",
        "\n",
        "## Problem Statement\n",
        "In this assignment you are going to build a simulation for population dynamics using C++ in a multithreaded environment. We have provided some starter code for you, and your job is to fill in the missing code as specified by the `#TODO#` blocks in the code. You can either just work in the ipynb OR you can work locally with the various files in this folder. If you don't have a GPU on your machine you will need to upload the ipynb to [Google Colaboratory](https://colab.google/) and work there.\n",
        "\n",
        "## Simulation Description\n",
        "Assume the world is split into `NUM_REGIONS` different regions. Each region is filled with `COMMUNITIES_PER_NUM_SPECIES` different communities of each of the `NUM_SPECIES` different species. Each of the communities is intialized with this information and a `population` and a `growth_rate` which is all packed into a `Species_Community` struct. Note that the struct also contains additional variables which you may or may not need to use depending upon your implementation (aka you explicitly don't need to use all of them, I just put them there to enable a bit of flexibility in how you implement things).\n",
        "\n",
        "```\n",
        "typedef struct {\n",
        "    int population;        // the population of a speciies\n",
        "    int food_collected;    // the food collected in the current time period\n",
        "    int region_of_world;   // region of this species community\n",
        "    int species_type;      // type of species for this species community\n",
        "    float growth_rate;     // growth_rate for this species community\n",
        "    bool flag;             // flag in case helpful to have one (you may not need this)\n",
        "    int helperi;           // flag in case helpful to have one (you may not need this)\n",
        "    float helperf;         // flag in case helpful to have one (you may not need this)\n",
        "} Species_Community;\n",
        "```\n",
        "\n",
        "The simulation runs for `NUM_TIMEPERIODS`. At each time period all of the members of each species calls the `food_oracle` inorder for everyone to `gather_all_food`. After all food is collected we can `update_all_populations` based on the amount of food gathered. In order to do so we need to first `compute_local_population_share` which is the percentage of all species WITHIN A SINGLE REGION that belong to a given species. We can then use that to `update_community_population` for each community of each species based on 3 rules as listed in later sections of this document.\n",
        "\n",
        "When the simulation is done it prints out the populations of the various communities of species.\n",
        "\n",
        "## Functions You'll Need To Implement\n",
        "All functions you need to implement are in `util.h` and that is the only file you need to submit to gradescope!\n",
        "\n",
        "#### First we'll implement helper functions:\n",
        "\n",
        "`update_community_population` (3 points)\n",
        "\n",
        "For a given community, update its population based on the input `local_population_share` and the following three rules:\n",
        "1. The change in population for a community is directly proportional to its growth_rate and local_population_share (aka the percent change is the multiplication of both the growth_rate and local_population_share). And make sure to round down!\n",
        "2. If it has collected enough food to feed the population it grows, else it shrinks by the percent change determined above.\n",
        "3. If the population drops below 5 it goes extinct (aka becomes 0).\n",
        "\n",
        "`compute_local_population_share` (3 points)\n",
        "\n",
        "Returns the population share for a given community. Population share is defined as the percentage of the total population in a region for a given species across all communities of all species.\n",
        "\n",
        "#### Then we'll implement the overall population update step:\n",
        "\n",
        "`update_all_populations` (5 points)\n",
        "\n",
        "Updates the population for all communities of all species. Some quick hints/notes:\n",
        "1. You will need to use compute_local_population_share and update_community_population\n",
        "2. Make sure your logic is thread safe! Remember when you launch a kernel every line of the code is run by every thread in parallel!\n",
        "3. Feel free to use helper functions if that makes your life easier!\n",
        "\n",
        "#### Next we'll implement the food gathering step:\n",
        "\n",
        "`gather_all_food` (3 points)\n",
        "\n",
        "Each simualtion step we reset the food counts to 0 and then each member of the population tries to collect food using the food_oracle(). Try to maximize parallelism.\n",
        "\n",
        "#### Then we'll implement the main kernel and function:\n",
        "\n",
        "`population_dynamics_kernel` (3 points)\n",
        "\n",
        "The kernel is the code that will run on the GPU. You want to make sure all NUM_TIME_PERIODS of gather_all_food and update_all_populations are run. To maximize performance on the GPU, you'll want to use shared memory to speed things up, but then make sure to save things back to RAM once you're done! Be careful that you copy the values from inside structs as needed!\n",
        "\n",
        "Finally, we'll launch the main kernel from the main function:\n",
        "\n",
        "`population_dynamics` (3 points)\n",
        "\n",
        "Remember that we need to be careful about GPU vs. CPU memory! So set up GPU memory, run the kernel, and clean up GPU memory!\n",
        "\n",
        "#### Example Output:\n",
        "With the presets of 2,2,2,10,5 (the constatns in the helpers for the number of regions and species etc.) and any number of threads you should get:\n",
        "```\n",
        "ID[0]: of type [1]: in region [0]: had final population [11]\n",
        "ID[1]: of type [1]: in region [0]: had final population [14]\n",
        "ID[2]: of type [1]: in region [1]: had final population [237]\n",
        "ID[3]: of type [0]: in region [1]: had final population [9]\n",
        "ID[4]: of type [0]: in region [0]: had final population [97]\n",
        "ID[5]: of type [0]: in region [0]: had final population [24]\n",
        "ID[6]: of type [0]: in region [0]: had final population [5]\n",
        "ID[7]: of type [1]: in region [1]: had final population [218]\n",
        "```\n",
        "\n",
        "## Submission\n",
        "Once you are done, download and submit (or just submit if you are working locally) your `util.h` file to **Courseworks**! Sadly Gradescope does not support GPU autograders at this time.\n",
        "\n",
        "## Notes and Hints\n",
        "+ **DO NOT CHANGE FUNCTION DEFINITIONS** or you will break our grading scripts\n",
        "+ See the syllabus for our course collaboration policy (long story short you are welcome to collaborate at a high level but please do not copy each others code).\n",
        "+ Please reach out on Slack with any and all questions!"
      ],
      "metadata": {
        "id": "Oq4JwmB9Tdua"
      }
    },
    {
      "cell_type": "code",
      "source": [
        "# make sure CUDA is installed\n",
        "!nvcc --version"
      ],
      "metadata": {
        "id": "xFuEfjGbOJ7L",
        "colab": {
          "base_uri": "https://localhost:8080/"
        },
        "outputId": "0b753e73-e27b-44a0-e5a8-4947f16df774"
      },
      "execution_count": 1,
      "outputs": [
        {
          "output_type": "stream",
          "name": "stdout",
          "text": [
            "nvcc: NVIDIA (R) Cuda compiler driver\n",
            "Copyright (c) 2005-2023 NVIDIA Corporation\n",
            "Built on Tue_Aug_15_22:02:13_PDT_2023\n",
            "Cuda compilation tools, release 12.2, V12.2.140\n",
            "Build cuda_12.2.r12.2/compiler.33191640_0\n"
          ]
        }
      ]
    },
    {
      "cell_type": "code",
      "source": [
        "# make sure you have a GPU runtime (if this fails go to runtime -> change runtime type)\n",
        "!nvidia-smi"
      ],
      "metadata": {
        "id": "p2X708J3OMBt",
        "colab": {
          "base_uri": "https://localhost:8080/"
        },
        "outputId": "3fb3b1fc-5057-4ffd-88cb-0cab7b02d553"
      },
      "execution_count": 2,
      "outputs": [
        {
          "output_type": "stream",
          "name": "stdout",
          "text": [
            "Wed Feb 14 14:22:16 2024       \n",
            "+---------------------------------------------------------------------------------------+\n",
            "| NVIDIA-SMI 535.104.05             Driver Version: 535.104.05   CUDA Version: 12.2     |\n",
            "|-----------------------------------------+----------------------+----------------------+\n",
            "| GPU  Name                 Persistence-M | Bus-Id        Disp.A | Volatile Uncorr. ECC |\n",
            "| Fan  Temp   Perf          Pwr:Usage/Cap |         Memory-Usage | GPU-Util  Compute M. |\n",
            "|                                         |                      |               MIG M. |\n",
            "|=========================================+======================+======================|\n",
            "|   0  Tesla T4                       Off | 00000000:00:04.0 Off |                    0 |\n",
            "| N/A   42C    P8               9W /  70W |      0MiB / 15360MiB |      0%      Default |\n",
            "|                                         |                      |                  N/A |\n",
            "+-----------------------------------------+----------------------+----------------------+\n",
            "                                                                                         \n",
            "+---------------------------------------------------------------------------------------+\n",
            "| Processes:                                                                            |\n",
            "|  GPU   GI   CI        PID   Type   Process name                            GPU Memory |\n",
            "|        ID   ID                                                             Usage      |\n",
            "|=======================================================================================|\n",
            "|  No running processes found                                                           |\n",
            "+---------------------------------------------------------------------------------------+\n"
          ]
        }
      ]
    },
    {
      "cell_type": "code",
      "source": [
        "# CUDA in Jupyter helpers\n",
        "!pip install nvcc4jupyter\n",
        "%load_ext nvcc4jupyter\n",
        "# to learn about how to do more fancy things with CUDA using this API see:\n",
        "# https://nvcc4jupyter.readthedocs.io/en/latest/index.html"
      ],
      "metadata": {
        "id": "qgvq2y2oOVWr",
        "colab": {
          "base_uri": "https://localhost:8080/"
        },
        "outputId": "af15121d-031b-4674-bfde-85fae574dd10"
      },
      "execution_count": 3,
      "outputs": [
        {
          "output_type": "stream",
          "name": "stdout",
          "text": [
            "Collecting nvcc4jupyter\n",
            "  Downloading nvcc4jupyter-1.1.0-py3-none-any.whl (8.0 kB)\n",
            "Installing collected packages: nvcc4jupyter\n",
            "Successfully installed nvcc4jupyter-1.1.0\n",
            "Source files will be saved in \"/tmp/tmpzpy2ygyu\".\n"
          ]
        }
      ]
    },
    {
      "cell_type": "code",
      "source": [
        "%%cuda_group_save -n helpers.h -g default\n",
        "\n",
        "#include <iostream>\n",
        "#include <thread>\n",
        "#include <vector>\n",
        "#include <mutex>\n",
        "#include <atomic>\n",
        "#include <cstdlib>\n",
        "#include <cmath>\n",
        "\n",
        "// Some helpful constants\n",
        "#define NUM_REGIONS 2\n",
        "#define NUM_SPECIES 2\n",
        "#define COMMUNITIES_PER_NUM_SPECIES 2\n",
        "#define COMMUNITIES_PER_REGION (NUM_SPECIES*COMMUNITIES_PER_NUM_SPECIES)\n",
        "#define TOTAL_COMMUNITIES (NUM_REGIONS*COMMUNITIES_PER_REGION)\n",
        "#define MAX_STARTING_POPULATION 10\n",
        "#define NUM_TIME_PERIODS 5\n",
        "// for this pset we only need to consider 1 block :)\n",
        "#define NUM_BLOCKS 1\n",
        "#define NUM_THREADS (TOTAL_COMMUNITIES/NUM_BLOCKS)\n",
        "\n",
        "\n",
        "// data structure to store information about each species\n",
        "typedef struct {\n",
        "    int population;        // the population of a speciies\n",
        "    int food_collected;    // the food collected in the current time period\n",
        "    int region_of_world;   // region of this species community\n",
        "    int species_type;      // type of species for this species community\n",
        "    float growth_rate;     // growth_rate for this species community\n",
        "    bool flag;             // flag in case helpful to have one (you may not need this)\n",
        "    int helperi;           // int storage in case helpful to have one (you may not need this)\n",
        "    float helperf;         // float storage in case helpful to have one (you may not need this)\n",
        "} Species_Community;\n",
        "\n",
        "// food oracle function call\n",
        "// call this with a community id to get a \"random\" amount of food back\n",
        "// this represents one community member going out to get food\n",
        "// we hardcode to 1 for determinism in testing but in theory should be random\n",
        "__host__ __device__\n",
        "int food_oracle(int community_id){return 1;};\n",
        "\n",
        "// random range integer in range [0,max_range)\n",
        "__host__\n",
        "int rand_range(int max_range){return rand() % max_range;}\n",
        "// random float in range [0,1]\n",
        "__host__\n",
        "float rand01(){return (float)rand() / (float)RAND_MAX;}"
      ],
      "metadata": {
        "id": "1Nrt0Zvf8L88"
      },
      "execution_count": 4,
      "outputs": []
    },
    {
      "cell_type": "code",
      "source": [
        "%%cuda_group_save -n util.h -g default\n",
        "\n",
        "#include \"helpers.h\"\n",
        "\n",
        "// function to simulate population change for one community of one species\n",
        "//\n",
        "// Note: 1) The change in population for a community is proportional to\n",
        "//          its growth_rate and local_population_share (and round down)\n",
        "//       2) If it has collected enough food to feed the population it grows, else it shrinks\n",
        "//       3) If the population drops below 5 it goes extinct\n",
        "//\n",
        "// Hint: Casting to an int implicitly rounds down so if you round in another way make sure to round down!\n",
        "__device__\n",
        "void update_community_population(Species_Community *s_communities, int community_id, float local_population_share) {\n",
        "  int change_in_pop = (int) s_communities[community_id].population*s_communities[community_id].growth_rate*local_population_share;\n",
        "  bool growing = s_communities[community_id].food_collected >= s_communities[community_id].population;\n",
        "  if(growing){\n",
        "      s_communities[community_id].population += change_in_pop;\n",
        "  }\n",
        "  if(not growing){\n",
        "      s_communities[community_id].population -= change_in_pop;\n",
        "      if(s_communities[community_id].population<5){\n",
        "          s_communities[community_id].population = 0;\n",
        "      }\n",
        "  }\n",
        "}\n",
        "\n",
        "// function to find the local population share for one community of one species\n",
        "//\n",
        "// Note: 1) Population share is defined as the percentage of population in a region\n",
        "//          that is a given species across all communities of all species\n",
        "//       2) You can assume this function is run by one thread if you'd like,\n",
        "//          just then make sure you call it accordingly later!\n",
        "//\n",
        "// Hint: You may want to use some of the \"helpful constants\" and be careful about int vs float!\n",
        "__device__\n",
        "float compute_local_population_share(Species_Community *s_communities, int community_id){\n",
        "  int species = s_communities[community_id].species_type;\n",
        "  int population_of_species_in_region = 0;\n",
        "  int population_other = 0;\n",
        "\n",
        "  //loop through every community, check if it is correct region\n",
        "  //count if it is of type species\n",
        "  for (int looping_id = 0; looping_id < TOTAL_COMMUNITIES; looping_id++){\n",
        "      if(s_communities[looping_id].region_of_world == s_communities[community_id].region_of_world){\n",
        "          if(s_communities[looping_id].species_type == species){\n",
        "              population_of_species_in_region += s_communities[looping_id].population;\n",
        "          }\n",
        "          else{\n",
        "              population_other += s_communities[looping_id].population;\n",
        "          }\n",
        "      }\n",
        "  }\n",
        "\n",
        "  //then divide pop for species type / total pop of all communities in region\n",
        "  float pop_share = static_cast<float>(population_of_species_in_region) / (population_of_species_in_region+population_other);\n",
        "  return pop_share;\n",
        "}\n",
        "\n",
        "// Updates the population for all communities of all species (assumes food is already gathered)\n",
        "//\n",
        "// Note: 1) You will need to use compute_local_population_share and update_community_population\n",
        "//       2) Use as many threads as possible but make sure your logic is thread safe!\n",
        "//          This may have a race condition you need to watch out for (depending on your design)!\n",
        "//       3) Feel free to use helper functions if that makes your life easier!\n",
        "//       4) All other implementation details are up to you! (Don't worry if your design isn't perfect!)\n",
        "__device__\n",
        "void update_all_populations(Species_Community *s_communities){\n",
        "  for(int i=threadIdx.x; i<TOTAL_COMMUNITIES; i+=blockDim.x){\n",
        "    float pop_share = compute_local_population_share(s_communities, i);\n",
        "    update_community_population(s_communities,i,pop_share);\n",
        "  }\n",
        "  __syncthreads();\n",
        "}\n",
        "\n",
        "// function to simulate food gathering\n",
        "//\n",
        "// Note: 1) Total food is always reset to 0 for each call and each member of the population tries to collect food\n",
        "//       2) Please use food_oracle() to get a new amount of food for each member of the population\n",
        "//       3) You can allocate threads to communites however you want!\n",
        "//       3) All other implementation details are up to you! (Don't worry if your design isn't perfect!)\n",
        "__device__\n",
        "void gather_all_food(Species_Community *s_communities) {\n",
        "\n",
        "\n",
        "  for(int i=threadIdx.x; i<TOTAL_COMMUNITIES; i+=blockDim.x){\n",
        "      s_communities[i].food_collected = 0;\n",
        "      for(int j=0;j<s_communities[i].population;j++){\n",
        "          s_communities[i].food_collected += food_oracle(i);\n",
        "      }\n",
        "  }\n",
        "    //for every community in s_communities\n",
        "      // call food_oracle(community_id) once for each member of population\n",
        "      // then add to s_communities[community_id].food_collected\n",
        "      //definitely something parallelizable in the calling food oracle but alas, we can optimize later\n",
        "}\n",
        "\n",
        "// the main kernel that computes the population dynamics over time\n",
        "//\n",
        "// Hints: 1) using shared memory may speed things up\n",
        "//           but then make sure to save things back to RAM\n",
        "//        2) make sure you do all NUM_TIME_PERIODS of gather_all_food\n",
        "//           and update_all_populations\n",
        "__global__\n",
        "void population_dynamics_kernel(Species_Community *d_communities){\n",
        "  for(int i=0;i<NUM_TIME_PERIODS;i++){\n",
        "      gather_all_food(d_communities);\n",
        "      update_all_populations(d_communities);\n",
        "  }\n",
        "}\n",
        "\n",
        "// the main function\n",
        "//\n",
        "// Hints: set up GPU memory, run the kernel, clean up GPU memory\n",
        "__host__\n",
        "void population_dynamics(Species_Community *h_communities){\n",
        "  Species_Community *d_communities;\n",
        "  cudaMalloc(&d_communities, TOTAL_COMMUNITIES*sizeof(Species_Community));\n",
        "  cudaMemcpy(d_communities,h_communities,TOTAL_COMMUNITIES*sizeof(Species_Community),cudaMemcpyHostToDevice);\n",
        "\n",
        "  population_dynamics_kernel<<<1,10>>>(d_communities); // launch the GPU code\n",
        "  cudaDeviceSynchronize(); // wait until the GPU is done\n",
        "\n",
        "  cudaMemcpy(h_communities,d_communities,TOTAL_COMMUNITIES*sizeof(Species_Community),cudaMemcpyDeviceToHost);\n",
        "  cudaFree(d_communities);\n",
        "}"
      ],
      "metadata": {
        "id": "03kj87s8kEAR"
      },
      "execution_count": 48,
      "outputs": []
    },
    {
      "cell_type": "code",
      "source": [
        "%%cuda_group_save -n run.cu -g default\n",
        "\n",
        "#include \"util.h\"\n",
        "\n",
        "__host__\n",
        "int main() {\n",
        "  // initialize random and data\n",
        "  srand(1337);\n",
        "  Species_Community h_communities[TOTAL_COMMUNITIES];\n",
        "  for (int community_id = 0; community_id < TOTAL_COMMUNITIES; community_id++){\n",
        "    h_communities[community_id].population = rand_range(MAX_STARTING_POPULATION) + 5;\n",
        "    h_communities[community_id].region_of_world = rand_range(NUM_REGIONS);\n",
        "    h_communities[community_id].species_type = rand_range(NUM_SPECIES);\n",
        "    h_communities[community_id].growth_rate = rand01();\n",
        "  }\n",
        "\n",
        "  for (int community_id = 0; community_id < TOTAL_COMMUNITIES; community_id++){\n",
        "    std::cout << \"ID[\" << community_id << \"]: of type [\" << h_communities[community_id].species_type <<\n",
        "                 \"]: in region [\" << h_communities[community_id].region_of_world << \"]: had initial population [\" <<\n",
        "                 h_communities[community_id].population << \"]\" << std::endl;\n",
        "  }\n",
        "\n",
        "  // the main function\n",
        "  population_dynamics(h_communities);\n",
        "\n",
        "  // print the final populations\n",
        "  std::cout << \"\\n---------\\n---------\\n\\n\";\n",
        "  for (int community_id = 0; community_id < TOTAL_COMMUNITIES; community_id++){\n",
        "    std::cout << \"ID[\" << community_id << \"]: of type [\" << h_communities[community_id].species_type <<\n",
        "                 \"]: in region [\" << h_communities[community_id].region_of_world << \"]: had final population [\" <<\n",
        "                 h_communities[community_id].population << \"]\" << std::endl;\n",
        "  }\n",
        "  return 0;\n",
        "}"
      ],
      "metadata": {
        "id": "0wlCCftXkbXN"
      },
      "execution_count": 49,
      "outputs": []
    },
    {
      "cell_type": "code",
      "source": [
        "%cuda_group_run -g default"
      ],
      "metadata": {
        "id": "EPcZ9VgLk16i",
        "colab": {
          "base_uri": "https://localhost:8080/"
        },
        "outputId": "677a40ae-de97-4f07-a26e-643c5f001dbb"
      },
      "execution_count": 50,
      "outputs": [
        {
          "output_type": "stream",
          "name": "stdout",
          "text": [
            "ID[0]: of type [1]: in region [0]: had initial population [6]\n",
            "ID[1]: of type [1]: in region [0]: had initial population [9]\n",
            "ID[2]: of type [1]: in region [1]: had initial population [13]\n",
            "ID[3]: of type [0]: in region [1]: had initial population [9]\n",
            "ID[4]: of type [0]: in region [0]: had initial population [10]\n",
            "ID[5]: of type [0]: in region [0]: had initial population [5]\n",
            "ID[6]: of type [0]: in region [0]: had initial population [5]\n",
            "ID[7]: of type [1]: in region [1]: had initial population [12]\n",
            "\n",
            "---------\n",
            "---------\n",
            "\n",
            "ID[0]: of type [1]: in region [0]: had final population [11]\n",
            "ID[1]: of type [1]: in region [0]: had final population [14]\n",
            "ID[2]: of type [1]: in region [1]: had final population [237]\n",
            "ID[3]: of type [0]: in region [1]: had final population [9]\n",
            "ID[4]: of type [0]: in region [0]: had final population [97]\n",
            "ID[5]: of type [0]: in region [0]: had final population [24]\n",
            "ID[6]: of type [0]: in region [0]: had final population [5]\n",
            "ID[7]: of type [1]: in region [1]: had final population [218]\n",
            "\n"
          ]
        }
      ]
    },
    {
      "cell_type": "markdown",
      "source": [
        "If you didn't change any parameters (besides the number of threads) then you should get:\n",
        "```\n",
        "ID[0]: of type [1]: in region [0]: had final population [11]\n",
        "ID[1]: of type [1]: in region [0]: had final population [14]\n",
        "ID[2]: of type [1]: in region [1]: had final population [237]\n",
        "ID[3]: of type [0]: in region [1]: had final population [9]\n",
        "ID[4]: of type [0]: in region [0]: had final population [97]\n",
        "ID[5]: of type [0]: in region [0]: had final population [24]\n",
        "ID[6]: of type [0]: in region [0]: had final population [5]\n",
        "ID[7]: of type [1]: in region [1]: had final population [218]\n",
        "```"
      ],
      "metadata": {
        "id": "xxECheCZFPRY"
      }
    }
  ]
}